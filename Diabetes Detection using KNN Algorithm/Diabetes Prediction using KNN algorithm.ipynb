{
 "cells": [
  {
   "cell_type": "code",
   "execution_count": 198,
   "id": "3ca7b746",
   "metadata": {},
   "outputs": [],
   "source": [
    "import pandas as pd\n",
    "import numpy as np\n",
    "import matplotlib.pyplot as mp\n",
    "import math as m"
   ]
  },
  {
   "cell_type": "code",
   "execution_count": 199,
   "id": "381df6d2",
   "metadata": {},
   "outputs": [
    {
     "data": {
      "text/html": [
       "<div>\n",
       "<style scoped>\n",
       "    .dataframe tbody tr th:only-of-type {\n",
       "        vertical-align: middle;\n",
       "    }\n",
       "\n",
       "    .dataframe tbody tr th {\n",
       "        vertical-align: top;\n",
       "    }\n",
       "\n",
       "    .dataframe thead th {\n",
       "        text-align: right;\n",
       "    }\n",
       "</style>\n",
       "<table border=\"1\" class=\"dataframe\">\n",
       "  <thead>\n",
       "    <tr style=\"text-align: right;\">\n",
       "      <th></th>\n",
       "      <th>Glucose</th>\n",
       "      <th>BloodPressure</th>\n",
       "      <th>Insulin</th>\n",
       "      <th>DiabetesPedigreeFunction</th>\n",
       "      <th>Age</th>\n",
       "      <th>Outcome</th>\n",
       "    </tr>\n",
       "  </thead>\n",
       "  <tbody>\n",
       "    <tr>\n",
       "      <th>0</th>\n",
       "      <td>148</td>\n",
       "      <td>72</td>\n",
       "      <td>0</td>\n",
       "      <td>0.627</td>\n",
       "      <td>50</td>\n",
       "      <td>1</td>\n",
       "    </tr>\n",
       "    <tr>\n",
       "      <th>1</th>\n",
       "      <td>85</td>\n",
       "      <td>66</td>\n",
       "      <td>0</td>\n",
       "      <td>0.351</td>\n",
       "      <td>31</td>\n",
       "      <td>0</td>\n",
       "    </tr>\n",
       "    <tr>\n",
       "      <th>2</th>\n",
       "      <td>183</td>\n",
       "      <td>64</td>\n",
       "      <td>0</td>\n",
       "      <td>0.672</td>\n",
       "      <td>32</td>\n",
       "      <td>1</td>\n",
       "    </tr>\n",
       "    <tr>\n",
       "      <th>3</th>\n",
       "      <td>89</td>\n",
       "      <td>66</td>\n",
       "      <td>94</td>\n",
       "      <td>0.167</td>\n",
       "      <td>21</td>\n",
       "      <td>0</td>\n",
       "    </tr>\n",
       "    <tr>\n",
       "      <th>4</th>\n",
       "      <td>137</td>\n",
       "      <td>40</td>\n",
       "      <td>168</td>\n",
       "      <td>2.288</td>\n",
       "      <td>33</td>\n",
       "      <td>1</td>\n",
       "    </tr>\n",
       "    <tr>\n",
       "      <th>5</th>\n",
       "      <td>116</td>\n",
       "      <td>74</td>\n",
       "      <td>0</td>\n",
       "      <td>0.201</td>\n",
       "      <td>30</td>\n",
       "      <td>0</td>\n",
       "    </tr>\n",
       "    <tr>\n",
       "      <th>6</th>\n",
       "      <td>78</td>\n",
       "      <td>50</td>\n",
       "      <td>88</td>\n",
       "      <td>0.248</td>\n",
       "      <td>26</td>\n",
       "      <td>1</td>\n",
       "    </tr>\n",
       "    <tr>\n",
       "      <th>7</th>\n",
       "      <td>115</td>\n",
       "      <td>0</td>\n",
       "      <td>0</td>\n",
       "      <td>0.134</td>\n",
       "      <td>29</td>\n",
       "      <td>0</td>\n",
       "    </tr>\n",
       "    <tr>\n",
       "      <th>8</th>\n",
       "      <td>197</td>\n",
       "      <td>70</td>\n",
       "      <td>543</td>\n",
       "      <td>0.158</td>\n",
       "      <td>53</td>\n",
       "      <td>1</td>\n",
       "    </tr>\n",
       "    <tr>\n",
       "      <th>9</th>\n",
       "      <td>125</td>\n",
       "      <td>96</td>\n",
       "      <td>0</td>\n",
       "      <td>0.232</td>\n",
       "      <td>54</td>\n",
       "      <td>1</td>\n",
       "    </tr>\n",
       "  </tbody>\n",
       "</table>\n",
       "</div>"
      ],
      "text/plain": [
       "   Glucose  BloodPressure  Insulin  DiabetesPedigreeFunction  Age  Outcome\n",
       "0      148             72        0                     0.627   50        1\n",
       "1       85             66        0                     0.351   31        0\n",
       "2      183             64        0                     0.672   32        1\n",
       "3       89             66       94                     0.167   21        0\n",
       "4      137             40      168                     2.288   33        1\n",
       "5      116             74        0                     0.201   30        0\n",
       "6       78             50       88                     0.248   26        1\n",
       "7      115              0        0                     0.134   29        0\n",
       "8      197             70      543                     0.158   53        1\n",
       "9      125             96        0                     0.232   54        1"
      ]
     },
     "execution_count": 199,
     "metadata": {},
     "output_type": "execute_result"
    }
   ],
   "source": [
    "dataset = pd.read_csv('C:/Users/tdoshi/OneDrive - Capgemini/Desktop/DataSets/diabetes.csv')\n",
    "dataset.head(10)"
   ]
  },
  {
   "cell_type": "code",
   "execution_count": 200,
   "id": "8ca8bf8c",
   "metadata": {},
   "outputs": [],
   "source": [
    "zero_replacement = ['Glucose', 'BloodPressure','Insulin']\n",
    "for column in zero_replacement:\n",
    "    dataset[column] = dataset[column].replace(0, np.NaN)\n",
    "    mean = int(dataset[column].mean(skipna=True))\n",
    "    dataset[column] = dataset[column].replace(np.NaN, mean)"
   ]
  },
  {
   "cell_type": "code",
   "execution_count": 201,
   "id": "dfe0488e",
   "metadata": {},
   "outputs": [
    {
     "data": {
      "text/html": [
       "<div>\n",
       "<style scoped>\n",
       "    .dataframe tbody tr th:only-of-type {\n",
       "        vertical-align: middle;\n",
       "    }\n",
       "\n",
       "    .dataframe tbody tr th {\n",
       "        vertical-align: top;\n",
       "    }\n",
       "\n",
       "    .dataframe thead th {\n",
       "        text-align: right;\n",
       "    }\n",
       "</style>\n",
       "<table border=\"1\" class=\"dataframe\">\n",
       "  <thead>\n",
       "    <tr style=\"text-align: right;\">\n",
       "      <th></th>\n",
       "      <th>Glucose</th>\n",
       "      <th>BloodPressure</th>\n",
       "      <th>Insulin</th>\n",
       "      <th>DiabetesPedigreeFunction</th>\n",
       "      <th>Age</th>\n",
       "      <th>Outcome</th>\n",
       "    </tr>\n",
       "  </thead>\n",
       "  <tbody>\n",
       "    <tr>\n",
       "      <th>0</th>\n",
       "      <td>148.0</td>\n",
       "      <td>72.0</td>\n",
       "      <td>155.0</td>\n",
       "      <td>0.627</td>\n",
       "      <td>50</td>\n",
       "      <td>1</td>\n",
       "    </tr>\n",
       "    <tr>\n",
       "      <th>1</th>\n",
       "      <td>85.0</td>\n",
       "      <td>66.0</td>\n",
       "      <td>155.0</td>\n",
       "      <td>0.351</td>\n",
       "      <td>31</td>\n",
       "      <td>0</td>\n",
       "    </tr>\n",
       "    <tr>\n",
       "      <th>2</th>\n",
       "      <td>183.0</td>\n",
       "      <td>64.0</td>\n",
       "      <td>155.0</td>\n",
       "      <td>0.672</td>\n",
       "      <td>32</td>\n",
       "      <td>1</td>\n",
       "    </tr>\n",
       "    <tr>\n",
       "      <th>3</th>\n",
       "      <td>89.0</td>\n",
       "      <td>66.0</td>\n",
       "      <td>94.0</td>\n",
       "      <td>0.167</td>\n",
       "      <td>21</td>\n",
       "      <td>0</td>\n",
       "    </tr>\n",
       "    <tr>\n",
       "      <th>4</th>\n",
       "      <td>137.0</td>\n",
       "      <td>40.0</td>\n",
       "      <td>168.0</td>\n",
       "      <td>2.288</td>\n",
       "      <td>33</td>\n",
       "      <td>1</td>\n",
       "    </tr>\n",
       "    <tr>\n",
       "      <th>5</th>\n",
       "      <td>116.0</td>\n",
       "      <td>74.0</td>\n",
       "      <td>155.0</td>\n",
       "      <td>0.201</td>\n",
       "      <td>30</td>\n",
       "      <td>0</td>\n",
       "    </tr>\n",
       "    <tr>\n",
       "      <th>6</th>\n",
       "      <td>78.0</td>\n",
       "      <td>50.0</td>\n",
       "      <td>88.0</td>\n",
       "      <td>0.248</td>\n",
       "      <td>26</td>\n",
       "      <td>1</td>\n",
       "    </tr>\n",
       "    <tr>\n",
       "      <th>7</th>\n",
       "      <td>115.0</td>\n",
       "      <td>72.0</td>\n",
       "      <td>155.0</td>\n",
       "      <td>0.134</td>\n",
       "      <td>29</td>\n",
       "      <td>0</td>\n",
       "    </tr>\n",
       "    <tr>\n",
       "      <th>8</th>\n",
       "      <td>197.0</td>\n",
       "      <td>70.0</td>\n",
       "      <td>543.0</td>\n",
       "      <td>0.158</td>\n",
       "      <td>53</td>\n",
       "      <td>1</td>\n",
       "    </tr>\n",
       "    <tr>\n",
       "      <th>9</th>\n",
       "      <td>125.0</td>\n",
       "      <td>96.0</td>\n",
       "      <td>155.0</td>\n",
       "      <td>0.232</td>\n",
       "      <td>54</td>\n",
       "      <td>1</td>\n",
       "    </tr>\n",
       "  </tbody>\n",
       "</table>\n",
       "</div>"
      ],
      "text/plain": [
       "   Glucose  BloodPressure  Insulin  DiabetesPedigreeFunction  Age  Outcome\n",
       "0    148.0           72.0    155.0                     0.627   50        1\n",
       "1     85.0           66.0    155.0                     0.351   31        0\n",
       "2    183.0           64.0    155.0                     0.672   32        1\n",
       "3     89.0           66.0     94.0                     0.167   21        0\n",
       "4    137.0           40.0    168.0                     2.288   33        1\n",
       "5    116.0           74.0    155.0                     0.201   30        0\n",
       "6     78.0           50.0     88.0                     0.248   26        1\n",
       "7    115.0           72.0    155.0                     0.134   29        0\n",
       "8    197.0           70.0    543.0                     0.158   53        1\n",
       "9    125.0           96.0    155.0                     0.232   54        1"
      ]
     },
     "execution_count": 201,
     "metadata": {},
     "output_type": "execute_result"
    }
   ],
   "source": [
    "dataset.head(10)"
   ]
  },
  {
   "cell_type": "code",
   "execution_count": 202,
   "id": "7d936f30",
   "metadata": {},
   "outputs": [
    {
     "data": {
      "image/png": "[encoded data removed]",
      "text/plain": [
       "<Figure size 640x480 with 1 Axes>"
      ]
     },
     "metadata": {},
     "output_type": "display_data"
    }
   ],
   "source": [
    "dataset.plot.scatter(x = 'Glucose', y = 'Outcome', s = 2);"
   ]
  },
  {
   "cell_type": "code",
   "execution_count": 203,
   "id": "a85a0ff5",
   "metadata": {},
   "outputs": [
    {
     "name": "stdout",
     "output_type": "stream",
     "text": [
      "27.712812921102035\n"
     ]
    }
   ],
   "source": [
    "print(m.sqrt(len(dataset)))\n",
    "# 27 will be the 'k' value"
   ]
  },
  {
   "cell_type": "code",
   "execution_count": 204,
   "id": "31e14fdc",
   "metadata": {},
   "outputs": [
    {
     "data": {
      "image/png": "[encoded data removed]",
      "text/plain": [
       "<Figure size 640x480 with 1 Axes>"
      ]
     },
     "metadata": {},
     "output_type": "display_data"
    }
   ],
   "source": [
    "dataset.plot.scatter(x = 'DiabetesPedigreeFunction', y = 'Outcome', s = 2);"
   ]
  },
  {
   "cell_type": "code",
   "execution_count": 205,
   "id": "6fc9579b",
   "metadata": {
    "scrolled": true
   },
   "outputs": [],
   "source": [
    "def knn(g, dpf):\n",
    "    euclidean = []\n",
    "    for i in range(0, len(dataset)):\n",
    "        x2 = dataset.loc[i, 'Glucose']\n",
    "        y2 = dataset.loc[i, 'DiabetesPedigreeFunction']\n",
    "        d = m.sqrt(((x2-g)**2)+((y2-dpf)**2))\n",
    "        euclidean.append(d)\n",
    "    dataset['euclidean'] = euclidean\n",
    "    sorted_ds = dataset.sort_values(by='euclidean', ascending=True)\n",
    "    knn_ds = pd.DataFrame()\n",
    "    if m.ceil(m.sqrt(len(dataset)))%2==0:\n",
    "        knn_ds = sorted_ds.head((m.ceil(m.sqrt(len(dataset))))-1)\n",
    "    else:\n",
    "        knn_ds = sorted_ds.head(m.ceil(m.sqrt(len(dataset))))\n",
    "    knn_ds = knn_ds.reset_index()\n",
    "    knn_ds = knn_ds.drop(['index'], axis=1)\n",
    "    oc0=0\n",
    "    oc1=0\n",
    "    for i in range(0, len(z)):\n",
    "        if knn_ds.loc[i,'Outcome']==0:\n",
    "            oc0=oc0+1\n",
    "        else:\n",
    "            oc1=oc1+1\n",
    "    f_oc = 0\n",
    "    if oc0>oc1:\n",
    "        f_oc = 0\n",
    "    else:\n",
    "        f_oc = 1\n",
    "    euclidean.clear()\n",
    "    dataset.drop(['euclidean'], axis=1, inplace=True)\n",
    "    #u_ent = {'Glucose': g, 'BloodPressure': bp, 'Insulin': i, 'DiabetesPedigreeFunction': dpf, 'Age': age, 'Outcome': f_oc}\n",
    "    #dataset.append(u_ent, ignore_index = True)\n",
    "    sorted_ds.drop([\"Glucose\",\"BloodPressure\",\"Insulin\",\"DiabetesPedigreeFunction\",\"Age\",\"Outcome\",\"euclidean\"], axis= 1, inplace=True)\n",
    "    knn_ds.drop([\"Glucose\",\"BloodPressure\",\"Insulin\",\"DiabetesPedigreeFunction\",\"Age\",\"Outcome\",\"euclidean\"], axis= 1, inplace=True)\n",
    "    return f_oc"
   ]
  },
  {
   "cell_type": "code",
   "execution_count": 206,
   "id": "5bb2d52e",
   "metadata": {},
   "outputs": [
    {
     "name": "stdout",
     "output_type": "stream",
     "text": [
      "Possibility: NO\n"
     ]
    }
   ],
   "source": [
    "r = knn(69, 0.269)\n",
    "if r==0:\n",
    "    print(\"Possibility: NO\")\n",
    "else:\n",
    "    print(\"Possibility: YES\")"
   ]
  }
 ],
 "metadata": {
  "kernelspec": {
   "display_name": "Python 3 (ipykernel)",
   "language": "python",
   "name": "python3"
  },
  "language_info": {
   "codemirror_mode": {
    "name": "ipython",
    "version": 3
   },
   "file_extension": ".py",
   "mimetype": "text/x-python",
   "name": "python",
   "nbconvert_exporter": "python",
   "pygments_lexer": "ipython3",
   "version": "3.9.13"
  }
 },
 "nbformat": 4,
 "nbformat_minor": 5
}
